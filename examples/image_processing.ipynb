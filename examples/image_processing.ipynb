{
 "cells": [
  {
   "cell_type": "markdown",
   "metadata": {},
   "source": [
    "# Image Processing with Mistral API"
   ]
  },
  {
   "cell_type": "code",
   "execution_count": 1,
   "metadata": {},
   "outputs": [],
   "source": [
    "import os\n",
    "from mistral_integration import get_mistral_response\n",
    "\n",
    "# Set the path to your image\n",
    "image_path = 'path_to_your_image.jpg'\n",
    "\n",
    "# Retrieve the API key from environment variables\n",
    "api_key = os.environ['MISTRAL_API_KEY']\n",
    "\n",
    "# Get the response from the Mistral API\n",
    "response = get_mistral_response(image_path, api_key)\n",
    "\n",
    "# Print the response\n",
    "print(response)"
   ]
  }
 ],
 "metadata": {
  "kernelspec": {
   "display_name": "Python 3",
   "language": "python",
   "name": "python3"
  },
  "language_info": {
   "codemirror_mode": {
    "name": "ipython",
    "version": 3
   },
   "file_extension": ".py",
   "mimetype": "text/x-python",
   "name": "python",
   "nbconvert_exporter": "python",
   "pygments_lexer": "ipython3",
   "version": "3.x.x"
  }
 },
 "nbformat": 4,
 "nbformat_minor": 4
}
